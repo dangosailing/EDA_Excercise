{
 "cells": [
  {
   "cell_type": "markdown",
   "id": "30c68162",
   "metadata": {},
   "source": [
    "# STEAM DATA TREND (2024)\n"
   ]
  },
  {
   "cell_type": "markdown",
   "id": "d2db765d",
   "metadata": {},
   "source": [
    "# DESCRIPTION\n",
    "\n",
    "We want to chart:\n",
    "Average playtime vs publisher class\n",
    "Average playtime vs review score\n",
    "Average playtime vs price"
   ]
  },
  {
   "cell_type": "markdown",
   "id": "1f598808",
   "metadata": {},
   "source": [
    "# MISC\n",
    "\n",
    "-- Data set did not specify currency, had to double check to make sure  \n",
    "-- Some games might have been translated indepdently, steamId still valid  \n",
    "-- Some games are incorrectly labeled or missing information (WWE 2k24 was deluxe edition)  \n",
    "-- Found a price outlierr in wwe 2k24 since (99.99)  \n",
    "-- Revenue data based on estimates"
   ]
  },
  {
   "cell_type": "markdown",
   "id": "18c5b6a7",
   "metadata": {},
   "source": [
    "## About this data set:\n",
    "This dataset contains comprehensive information on the top 1500 games released on Steam between January 1, 2024, and September 9, 2024. Aggregated from 30 separate files, and combined into a single dataset. Minor adjustments were made, such as aligning game release dates for consistency.\n",
    "\n",
    "## Key Features:\n",
    "Game Details: Includes titles, release dates, and developer/publisher information.\n",
    "Sales and Revenue: Tracks the number of copies sold, revenue generated, and pricing details.\n",
    "Player Engagement: Provides average playtime, peak player counts, and other user engagement metrics.\n",
    "Reviews and Scores: Features review scores and ratings.\n",
    "Dynamic Market Data: Offers insights into game performance trends over time, such as sales rank and price fluctuations.\n"
   ]
  },
  {
   "cell_type": "code",
   "execution_count": 103,
   "id": "a15d23f8",
   "metadata": {},
   "outputs": [
    {
     "data": {
      "text/html": [
       "<div>\n",
       "<style scoped>\n",
       "    .dataframe tbody tr th:only-of-type {\n",
       "        vertical-align: middle;\n",
       "    }\n",
       "\n",
       "    .dataframe tbody tr th {\n",
       "        vertical-align: top;\n",
       "    }\n",
       "\n",
       "    .dataframe thead th {\n",
       "        text-align: right;\n",
       "    }\n",
       "</style>\n",
       "<table border=\"1\" class=\"dataframe\">\n",
       "  <thead>\n",
       "    <tr style=\"text-align: right;\">\n",
       "      <th></th>\n",
       "      <th>name</th>\n",
       "      <th>releaseDate</th>\n",
       "      <th>copiesSold</th>\n",
       "      <th>price</th>\n",
       "      <th>revenue</th>\n",
       "      <th>avgPlaytime</th>\n",
       "      <th>reviewScore</th>\n",
       "      <th>publisherClass</th>\n",
       "      <th>publishers</th>\n",
       "      <th>developers</th>\n",
       "      <th>steamId</th>\n",
       "    </tr>\n",
       "  </thead>\n",
       "  <tbody>\n",
       "    <tr>\n",
       "      <th>1450</th>\n",
       "      <td>Black Myth: Wukong</td>\n",
       "      <td>19-08-2024</td>\n",
       "      <td>15517278</td>\n",
       "      <td>59.99</td>\n",
       "      <td>837793356.0</td>\n",
       "      <td>20.065041</td>\n",
       "      <td>96</td>\n",
       "      <td>AAA</td>\n",
       "      <td>Game Science</td>\n",
       "      <td>Game Science</td>\n",
       "      <td>2358720</td>\n",
       "    </tr>\n",
       "    <tr>\n",
       "      <th>1451</th>\n",
       "      <td>HELLDIVERS™ 2</td>\n",
       "      <td>08-02-2024</td>\n",
       "      <td>11905198</td>\n",
       "      <td>39.99</td>\n",
       "      <td>435635596.0</td>\n",
       "      <td>39.205960</td>\n",
       "      <td>71</td>\n",
       "      <td>AAA</td>\n",
       "      <td>PlayStation Publishing LLC</td>\n",
       "      <td>Arrowhead Game Studios</td>\n",
       "      <td>553850</td>\n",
       "    </tr>\n",
       "    <tr>\n",
       "      <th>1452</th>\n",
       "      <td>Palworld</td>\n",
       "      <td>18-01-2024</td>\n",
       "      <td>16704850</td>\n",
       "      <td>29.99</td>\n",
       "      <td>392328553.0</td>\n",
       "      <td>41.840761</td>\n",
       "      <td>94</td>\n",
       "      <td>AA</td>\n",
       "      <td>Pocketpair</td>\n",
       "      <td>Pocketpair</td>\n",
       "      <td>1623730</td>\n",
       "    </tr>\n",
       "    <tr>\n",
       "      <th>1453</th>\n",
       "      <td>Sons Of The Forest</td>\n",
       "      <td>22-02-2024</td>\n",
       "      <td>8693478</td>\n",
       "      <td>29.99</td>\n",
       "      <td>217017892.0</td>\n",
       "      <td>17.341205</td>\n",
       "      <td>86</td>\n",
       "      <td>AA</td>\n",
       "      <td>Newnight</td>\n",
       "      <td>Endnight Games Ltd</td>\n",
       "      <td>1326470</td>\n",
       "    </tr>\n",
       "    <tr>\n",
       "      <th>1454</th>\n",
       "      <td>Dragon's Dogma 2</td>\n",
       "      <td>21-03-2024</td>\n",
       "      <td>1785028</td>\n",
       "      <td>69.99</td>\n",
       "      <td>111478291.0</td>\n",
       "      <td>31.687050</td>\n",
       "      <td>0</td>\n",
       "      <td>AAA</td>\n",
       "      <td>CAPCOM Co., Ltd.</td>\n",
       "      <td>CAPCOM Co., Ltd.</td>\n",
       "      <td>2054970</td>\n",
       "    </tr>\n",
       "    <tr>\n",
       "      <th>1455</th>\n",
       "      <td>The First Descendant</td>\n",
       "      <td>30-06-2024</td>\n",
       "      <td>4043850</td>\n",
       "      <td>0.00</td>\n",
       "      <td>102244808.0</td>\n",
       "      <td>49.870230</td>\n",
       "      <td>55</td>\n",
       "      <td>AA</td>\n",
       "      <td>NEXON</td>\n",
       "      <td>NEXON Games Co., Ltd.</td>\n",
       "      <td>2074920</td>\n",
       "    </tr>\n",
       "    <tr>\n",
       "      <th>1456</th>\n",
       "      <td>Last Epoch</td>\n",
       "      <td>21-02-2024</td>\n",
       "      <td>3300623</td>\n",
       "      <td>34.99</td>\n",
       "      <td>97723674.0</td>\n",
       "      <td>51.955238</td>\n",
       "      <td>86</td>\n",
       "      <td>AA</td>\n",
       "      <td>Eleventh Hour Games</td>\n",
       "      <td>Eleventh Hour Games</td>\n",
       "      <td>899770</td>\n",
       "    </tr>\n",
       "    <tr>\n",
       "      <th>1457</th>\n",
       "      <td>7 Days to Die</td>\n",
       "      <td>25-07-2024</td>\n",
       "      <td>9877443</td>\n",
       "      <td>44.99</td>\n",
       "      <td>89781931.0</td>\n",
       "      <td>85.913585</td>\n",
       "      <td>89</td>\n",
       "      <td>AA</td>\n",
       "      <td>The Fun Pimps Entertainment LLC</td>\n",
       "      <td>The Fun Pimps</td>\n",
       "      <td>251570</td>\n",
       "    </tr>\n",
       "    <tr>\n",
       "      <th>1458</th>\n",
       "      <td>V Rising</td>\n",
       "      <td>08-05-2024</td>\n",
       "      <td>4784609</td>\n",
       "      <td>34.99</td>\n",
       "      <td>83614738.0</td>\n",
       "      <td>32.695293</td>\n",
       "      <td>0</td>\n",
       "      <td>AA</td>\n",
       "      <td>Stunlock Studios</td>\n",
       "      <td>Stunlock Studios</td>\n",
       "      <td>1604030</td>\n",
       "    </tr>\n",
       "    <tr>\n",
       "      <th>1459</th>\n",
       "      <td>Manor Lords</td>\n",
       "      <td>26-04-2024</td>\n",
       "      <td>2294915</td>\n",
       "      <td>39.99</td>\n",
       "      <td>63098408.0</td>\n",
       "      <td>16.702169</td>\n",
       "      <td>88</td>\n",
       "      <td>AA</td>\n",
       "      <td>Hooded Horse</td>\n",
       "      <td>Slavic Magic</td>\n",
       "      <td>1363080</td>\n",
       "    </tr>\n",
       "    <tr>\n",
       "      <th>1460</th>\n",
       "      <td>Enshrouded</td>\n",
       "      <td>24-01-2024</td>\n",
       "      <td>2338262</td>\n",
       "      <td>29.99</td>\n",
       "      <td>57595515.0</td>\n",
       "      <td>37.767896</td>\n",
       "      <td>87</td>\n",
       "      <td>AA</td>\n",
       "      <td>Keen Games GmbH</td>\n",
       "      <td>Keen Games GmbH</td>\n",
       "      <td>1203620</td>\n",
       "    </tr>\n",
       "    <tr>\n",
       "      <th>1461</th>\n",
       "      <td>Ghost of Tsushima DIRECTOR'S CUT</td>\n",
       "      <td>16-05-2024</td>\n",
       "      <td>925123</td>\n",
       "      <td>59.99</td>\n",
       "      <td>49948315.0</td>\n",
       "      <td>26.178334</td>\n",
       "      <td>92</td>\n",
       "      <td>AAA</td>\n",
       "      <td>PlayStation Publishing LLC</td>\n",
       "      <td>Sucker Punch Productions,Nixxes Software</td>\n",
       "      <td>2215430</td>\n",
       "    </tr>\n",
       "    <tr>\n",
       "      <th>1462</th>\n",
       "      <td>Granblue Fantasy: Relink</td>\n",
       "      <td>31-01-2024</td>\n",
       "      <td>1057697</td>\n",
       "      <td>59.99</td>\n",
       "      <td>49035237.0</td>\n",
       "      <td>53.906179</td>\n",
       "      <td>90</td>\n",
       "      <td>AA</td>\n",
       "      <td>Cygames, Inc.</td>\n",
       "      <td>Cygames, Inc.</td>\n",
       "      <td>881020</td>\n",
       "    </tr>\n",
       "    <tr>\n",
       "      <th>1463</th>\n",
       "      <td>TEKKEN 8</td>\n",
       "      <td>25-01-2024</td>\n",
       "      <td>734722</td>\n",
       "      <td>69.99</td>\n",
       "      <td>45285110.0</td>\n",
       "      <td>60.823722</td>\n",
       "      <td>71</td>\n",
       "      <td>AAA</td>\n",
       "      <td>Bandai Namco Entertainment</td>\n",
       "      <td>Bandai Namco Studios Inc.</td>\n",
       "      <td>1778820</td>\n",
       "    </tr>\n",
       "    <tr>\n",
       "      <th>1464</th>\n",
       "      <td>Hades II</td>\n",
       "      <td>06-05-2024</td>\n",
       "      <td>1582696</td>\n",
       "      <td>29.99</td>\n",
       "      <td>42718547.0</td>\n",
       "      <td>22.847146</td>\n",
       "      <td>0</td>\n",
       "      <td>AA</td>\n",
       "      <td>Supergiant Games</td>\n",
       "      <td>Supergiant Games</td>\n",
       "      <td>1145350</td>\n",
       "    </tr>\n",
       "    <tr>\n",
       "      <th>1465</th>\n",
       "      <td>Persona 3 Reload</td>\n",
       "      <td>01-02-2024</td>\n",
       "      <td>612576</td>\n",
       "      <td>69.99</td>\n",
       "      <td>34601865.0</td>\n",
       "      <td>35.384946</td>\n",
       "      <td>95</td>\n",
       "      <td>AA</td>\n",
       "      <td>SEGA</td>\n",
       "      <td>ATLUS</td>\n",
       "      <td>2161700</td>\n",
       "    </tr>\n",
       "    <tr>\n",
       "      <th>1466</th>\n",
       "      <td>Once Human</td>\n",
       "      <td>09-07-2024</td>\n",
       "      <td>5709407</td>\n",
       "      <td>0.00</td>\n",
       "      <td>34530561.0</td>\n",
       "      <td>42.261045</td>\n",
       "      <td>72</td>\n",
       "      <td>Indie</td>\n",
       "      <td>Starry Studio</td>\n",
       "      <td>Starry Studio</td>\n",
       "      <td>2139460</td>\n",
       "    </tr>\n",
       "    <tr>\n",
       "      <th>1467</th>\n",
       "      <td>Gray Zone Warfare</td>\n",
       "      <td>30-04-2024</td>\n",
       "      <td>1032731</td>\n",
       "      <td>34.99</td>\n",
       "      <td>34030740.0</td>\n",
       "      <td>31.906497</td>\n",
       "      <td>67</td>\n",
       "      <td>Indie</td>\n",
       "      <td>MADFINGER Games, a.s.</td>\n",
       "      <td>MADFINGER Games, a.s.</td>\n",
       "      <td>2479810</td>\n",
       "    </tr>\n",
       "    <tr>\n",
       "      <th>1468</th>\n",
       "      <td>Blade and Sorcery</td>\n",
       "      <td>17-06-2024</td>\n",
       "      <td>1606175</td>\n",
       "      <td>29.99</td>\n",
       "      <td>31266686.0</td>\n",
       "      <td>19.720787</td>\n",
       "      <td>97</td>\n",
       "      <td>Indie</td>\n",
       "      <td>WarpFrog</td>\n",
       "      <td>WarpFrog</td>\n",
       "      <td>629730</td>\n",
       "    </tr>\n",
       "    <tr>\n",
       "      <th>1469</th>\n",
       "      <td>The Outlast Trials</td>\n",
       "      <td>05-03-2024</td>\n",
       "      <td>1230011</td>\n",
       "      <td>39.99</td>\n",
       "      <td>30878209.0</td>\n",
       "      <td>24.441368</td>\n",
       "      <td>94</td>\n",
       "      <td>AA</td>\n",
       "      <td>Red Barrels</td>\n",
       "      <td>Red Barrels</td>\n",
       "      <td>1304930</td>\n",
       "    </tr>\n",
       "  </tbody>\n",
       "</table>\n",
       "</div>"
      ],
      "text/plain": [
       "                                  name releaseDate  copiesSold  price  \\\n",
       "1450                Black Myth: Wukong  19-08-2024    15517278  59.99   \n",
       "1451                     HELLDIVERS™ 2  08-02-2024    11905198  39.99   \n",
       "1452                          Palworld  18-01-2024    16704850  29.99   \n",
       "1453                Sons Of The Forest  22-02-2024     8693478  29.99   \n",
       "1454                  Dragon's Dogma 2  21-03-2024     1785028  69.99   \n",
       "1455              The First Descendant  30-06-2024     4043850   0.00   \n",
       "1456                        Last Epoch  21-02-2024     3300623  34.99   \n",
       "1457                     7 Days to Die  25-07-2024     9877443  44.99   \n",
       "1458                          V Rising  08-05-2024     4784609  34.99   \n",
       "1459                       Manor Lords  26-04-2024     2294915  39.99   \n",
       "1460                        Enshrouded  24-01-2024     2338262  29.99   \n",
       "1461  Ghost of Tsushima DIRECTOR'S CUT  16-05-2024      925123  59.99   \n",
       "1462          Granblue Fantasy: Relink  31-01-2024     1057697  59.99   \n",
       "1463                          TEKKEN 8  25-01-2024      734722  69.99   \n",
       "1464                          Hades II  06-05-2024     1582696  29.99   \n",
       "1465                  Persona 3 Reload  01-02-2024      612576  69.99   \n",
       "1466                        Once Human  09-07-2024     5709407   0.00   \n",
       "1467                 Gray Zone Warfare  30-04-2024     1032731  34.99   \n",
       "1468                 Blade and Sorcery  17-06-2024     1606175  29.99   \n",
       "1469                The Outlast Trials  05-03-2024     1230011  39.99   \n",
       "\n",
       "          revenue  avgPlaytime  reviewScore publisherClass  \\\n",
       "1450  837793356.0    20.065041           96            AAA   \n",
       "1451  435635596.0    39.205960           71            AAA   \n",
       "1452  392328553.0    41.840761           94             AA   \n",
       "1453  217017892.0    17.341205           86             AA   \n",
       "1454  111478291.0    31.687050            0            AAA   \n",
       "1455  102244808.0    49.870230           55             AA   \n",
       "1456   97723674.0    51.955238           86             AA   \n",
       "1457   89781931.0    85.913585           89             AA   \n",
       "1458   83614738.0    32.695293            0             AA   \n",
       "1459   63098408.0    16.702169           88             AA   \n",
       "1460   57595515.0    37.767896           87             AA   \n",
       "1461   49948315.0    26.178334           92            AAA   \n",
       "1462   49035237.0    53.906179           90             AA   \n",
       "1463   45285110.0    60.823722           71            AAA   \n",
       "1464   42718547.0    22.847146            0             AA   \n",
       "1465   34601865.0    35.384946           95             AA   \n",
       "1466   34530561.0    42.261045           72          Indie   \n",
       "1467   34030740.0    31.906497           67          Indie   \n",
       "1468   31266686.0    19.720787           97          Indie   \n",
       "1469   30878209.0    24.441368           94             AA   \n",
       "\n",
       "                           publishers  \\\n",
       "1450                     Game Science   \n",
       "1451       PlayStation Publishing LLC   \n",
       "1452                       Pocketpair   \n",
       "1453                         Newnight   \n",
       "1454                 CAPCOM Co., Ltd.   \n",
       "1455                            NEXON   \n",
       "1456              Eleventh Hour Games   \n",
       "1457  The Fun Pimps Entertainment LLC   \n",
       "1458                 Stunlock Studios   \n",
       "1459                     Hooded Horse   \n",
       "1460                  Keen Games GmbH   \n",
       "1461       PlayStation Publishing LLC   \n",
       "1462                    Cygames, Inc.   \n",
       "1463       Bandai Namco Entertainment   \n",
       "1464                 Supergiant Games   \n",
       "1465                             SEGA   \n",
       "1466                    Starry Studio   \n",
       "1467            MADFINGER Games, a.s.   \n",
       "1468                         WarpFrog   \n",
       "1469                      Red Barrels   \n",
       "\n",
       "                                    developers  steamId  \n",
       "1450                              Game Science  2358720  \n",
       "1451                    Arrowhead Game Studios   553850  \n",
       "1452                                Pocketpair  1623730  \n",
       "1453                        Endnight Games Ltd  1326470  \n",
       "1454                          CAPCOM Co., Ltd.  2054970  \n",
       "1455                     NEXON Games Co., Ltd.  2074920  \n",
       "1456                       Eleventh Hour Games   899770  \n",
       "1457                             The Fun Pimps   251570  \n",
       "1458                          Stunlock Studios  1604030  \n",
       "1459                              Slavic Magic  1363080  \n",
       "1460                           Keen Games GmbH  1203620  \n",
       "1461  Sucker Punch Productions,Nixxes Software  2215430  \n",
       "1462                             Cygames, Inc.   881020  \n",
       "1463                 Bandai Namco Studios Inc.  1778820  \n",
       "1464                          Supergiant Games  1145350  \n",
       "1465                                     ATLUS  2161700  \n",
       "1466                             Starry Studio  2139460  \n",
       "1467                     MADFINGER Games, a.s.  2479810  \n",
       "1468                                  WarpFrog   629730  \n",
       "1469                               Red Barrels  1304930  "
      ]
     },
     "execution_count": 103,
     "metadata": {},
     "output_type": "execute_result"
    }
   ],
   "source": [
    "import pandas as pd\n",
    "\n",
    "data = pd.read_csv('./Steam_2024_bestRevenue_1500.csv')\n",
    "\n",
    "\n",
    "data.sort_values(by='revenue', ascending=False, inplace=True)\n",
    "\n",
    "#data cleaning\n",
    "#data.isna().sum()\n",
    "#data.info()\n",
    "\n",
    "data.head(20)"
   ]
  },
  {
   "cell_type": "markdown",
   "id": "ebe60473-6f64-4359-a385-738d9da1f289",
   "metadata": {},
   "source": [
    "Will investigate  missing developers and publishers"
   ]
  },
  {
   "cell_type": "code",
   "execution_count": 84,
   "id": "d762fbfd-bd85-456d-932f-cd3cacf02448",
   "metadata": {},
   "outputs": [
    {
     "data": {
      "text/html": [
       "<div>\n",
       "<style scoped>\n",
       "    .dataframe tbody tr th:only-of-type {\n",
       "        vertical-align: middle;\n",
       "    }\n",
       "\n",
       "    .dataframe tbody tr th {\n",
       "        vertical-align: top;\n",
       "    }\n",
       "\n",
       "    .dataframe thead th {\n",
       "        text-align: right;\n",
       "    }\n",
       "</style>\n",
       "<table border=\"1\" class=\"dataframe\">\n",
       "  <thead>\n",
       "    <tr style=\"text-align: right;\">\n",
       "      <th></th>\n",
       "      <th>name</th>\n",
       "      <th>releaseDate</th>\n",
       "      <th>copiesSold</th>\n",
       "      <th>price</th>\n",
       "      <th>revenue</th>\n",
       "      <th>avgPlaytime</th>\n",
       "      <th>reviewScore</th>\n",
       "      <th>publisherClass</th>\n",
       "      <th>publishers</th>\n",
       "      <th>developers</th>\n",
       "      <th>steamId</th>\n",
       "    </tr>\n",
       "  </thead>\n",
       "  <tbody>\n",
       "    <tr>\n",
       "      <th>643</th>\n",
       "      <td>YUME 4</td>\n",
       "      <td>12-01-2024</td>\n",
       "      <td>18572</td>\n",
       "      <td>4.99</td>\n",
       "      <td>54457.0</td>\n",
       "      <td>1.225076</td>\n",
       "      <td>78</td>\n",
       "      <td>Indie</td>\n",
       "      <td>Lovely Games</td>\n",
       "      <td>NaN</td>\n",
       "      <td>2602730</td>\n",
       "    </tr>\n",
       "    <tr>\n",
       "      <th>765</th>\n",
       "      <td>Hypnosis Card</td>\n",
       "      <td>19-01-2024</td>\n",
       "      <td>10812</td>\n",
       "      <td>4.99</td>\n",
       "      <td>41891.0</td>\n",
       "      <td>2.016618</td>\n",
       "      <td>77</td>\n",
       "      <td>Indie</td>\n",
       "      <td>Lovely Games</td>\n",
       "      <td>NaN</td>\n",
       "      <td>2544990</td>\n",
       "    </tr>\n",
       "  </tbody>\n",
       "</table>\n",
       "</div>"
      ],
      "text/plain": [
       "              name releaseDate  copiesSold  price  revenue  avgPlaytime  \\\n",
       "643         YUME 4  12-01-2024       18572   4.99  54457.0     1.225076   \n",
       "765  Hypnosis Card  19-01-2024       10812   4.99  41891.0     2.016618   \n",
       "\n",
       "     reviewScore publisherClass    publishers developers  steamId  \n",
       "643           78          Indie  Lovely Games        NaN  2602730  \n",
       "765           77          Indie  Lovely Games        NaN  2544990  "
      ]
     },
     "execution_count": 84,
     "metadata": {},
     "output_type": "execute_result"
    }
   ],
   "source": [
    "data[data['developers'].isna()]"
   ]
  },
  {
   "cell_type": "code",
   "execution_count": 85,
   "id": "7c7dd01a-2bee-4103-a3c6-d4ef98ee9b90",
   "metadata": {},
   "outputs": [
    {
     "data": {
      "text/html": [
       "<div>\n",
       "<style scoped>\n",
       "    .dataframe tbody tr th:only-of-type {\n",
       "        vertical-align: middle;\n",
       "    }\n",
       "\n",
       "    .dataframe tbody tr th {\n",
       "        vertical-align: top;\n",
       "    }\n",
       "\n",
       "    .dataframe thead th {\n",
       "        text-align: right;\n",
       "    }\n",
       "</style>\n",
       "<table border=\"1\" class=\"dataframe\">\n",
       "  <thead>\n",
       "    <tr style=\"text-align: right;\">\n",
       "      <th></th>\n",
       "      <th>name</th>\n",
       "      <th>releaseDate</th>\n",
       "      <th>copiesSold</th>\n",
       "      <th>price</th>\n",
       "      <th>revenue</th>\n",
       "      <th>avgPlaytime</th>\n",
       "      <th>reviewScore</th>\n",
       "      <th>publisherClass</th>\n",
       "      <th>publishers</th>\n",
       "      <th>developers</th>\n",
       "      <th>steamId</th>\n",
       "    </tr>\n",
       "  </thead>\n",
       "  <tbody>\n",
       "    <tr>\n",
       "      <th>710</th>\n",
       "      <td>Pixel Noir</td>\n",
       "      <td>08-02-2024</td>\n",
       "      <td>3129</td>\n",
       "      <td>24.99</td>\n",
       "      <td>47871.0</td>\n",
       "      <td>8.461324</td>\n",
       "      <td>67</td>\n",
       "      <td>Hobbyist</td>\n",
       "      <td>NaN</td>\n",
       "      <td>SWDTech Games</td>\n",
       "      <td>754320</td>\n",
       "    </tr>\n",
       "  </tbody>\n",
       "</table>\n",
       "</div>"
      ],
      "text/plain": [
       "           name releaseDate  copiesSold  price  revenue  avgPlaytime  \\\n",
       "710  Pixel Noir  08-02-2024        3129  24.99  47871.0     8.461324   \n",
       "\n",
       "     reviewScore publisherClass publishers     developers  steamId  \n",
       "710           67       Hobbyist        NaN  SWDTech Games   754320  "
      ]
     },
     "execution_count": 85,
     "metadata": {},
     "output_type": "execute_result"
    }
   ],
   "source": [
    "data[data['publishers'].isna()]"
   ]
  },
  {
   "cell_type": "markdown",
   "id": "b4e208cd-4a1a-4eb9-a2f9-49c375eb733a",
   "metadata": {},
   "source": [
    "Using Steam ID we identified developers and publishers for the missing data"
   ]
  },
  {
   "cell_type": "code",
   "execution_count": 86,
   "id": "c8125228-4620-458b-8b94-687204688ea6",
   "metadata": {},
   "outputs": [],
   "source": [
    "data.loc[data['steamId'] == 2602730, 'developers'] = 'Lovely Games'\n",
    "data.loc[data['steamId'] == 2544990, 'developers'] = 'Naku kinoko'\n",
    "data.loc[data['steamId'] == 754320, 'publishers'] = 'SWDTech Games'"
   ]
  },
  {
   "cell_type": "code",
   "execution_count": 87,
   "id": "92b6b2a1-4426-46df-92dc-6ee5ec00fff0",
   "metadata": {},
   "outputs": [
    {
     "data": {
      "text/html": [
       "<div>\n",
       "<style scoped>\n",
       "    .dataframe tbody tr th:only-of-type {\n",
       "        vertical-align: middle;\n",
       "    }\n",
       "\n",
       "    .dataframe tbody tr th {\n",
       "        vertical-align: top;\n",
       "    }\n",
       "\n",
       "    .dataframe thead th {\n",
       "        text-align: right;\n",
       "    }\n",
       "</style>\n",
       "<table border=\"1\" class=\"dataframe\">\n",
       "  <thead>\n",
       "    <tr style=\"text-align: right;\">\n",
       "      <th></th>\n",
       "      <th>name</th>\n",
       "      <th>releaseDate</th>\n",
       "      <th>copiesSold</th>\n",
       "      <th>price</th>\n",
       "      <th>revenue</th>\n",
       "      <th>avgPlaytime</th>\n",
       "      <th>reviewScore</th>\n",
       "      <th>publisherClass</th>\n",
       "      <th>publishers</th>\n",
       "      <th>developers</th>\n",
       "      <th>steamId</th>\n",
       "    </tr>\n",
       "  </thead>\n",
       "  <tbody>\n",
       "  </tbody>\n",
       "</table>\n",
       "</div>"
      ],
      "text/plain": [
       "Empty DataFrame\n",
       "Columns: [name, releaseDate, copiesSold, price, revenue, avgPlaytime, reviewScore, publisherClass, publishers, developers, steamId]\n",
       "Index: []"
      ]
     },
     "execution_count": 87,
     "metadata": {},
     "output_type": "execute_result"
    }
   ],
   "source": [
    "data[data['developers'].isna()]\n",
    "data[data['publishers'].isna()]"
   ]
  },
  {
   "cell_type": "code",
   "execution_count": 88,
   "id": "68fe6dbd",
   "metadata": {},
   "outputs": [
    {
     "name": "stdout",
     "output_type": "stream",
     "text": [
      "0\n"
     ]
    }
   ],
   "source": [
    "print(data.duplicated().sum())"
   ]
  },
  {
   "cell_type": "markdown",
   "id": "29af96e0",
   "metadata": {},
   "source": [
    "Found no duplicates"
   ]
  },
  {
   "cell_type": "code",
   "execution_count": 89,
   "id": "a86da78b",
   "metadata": {},
   "outputs": [
    {
     "data": {
      "text/plain": [
       "name              0\n",
       "releaseDate       0\n",
       "copiesSold        0\n",
       "price             0\n",
       "revenue           0\n",
       "avgPlaytime       0\n",
       "reviewScore       0\n",
       "publisherClass    0\n",
       "publishers        0\n",
       "developers        0\n",
       "steamId           0\n",
       "dtype: int64"
      ]
     },
     "execution_count": 89,
     "metadata": {},
     "output_type": "execute_result"
    }
   ],
   "source": [
    "(data == \"\").sum()\n",
    "(data == \" \").sum()\n"
   ]
  },
  {
   "cell_type": "markdown",
   "id": "0209701b",
   "metadata": {},
   "source": [
    "checked for empty strings and blank spaces"
   ]
  },
  {
   "cell_type": "code",
   "execution_count": 90,
   "id": "d15bfb28",
   "metadata": {},
   "outputs": [
    {
     "name": "stdout",
     "output_type": "stream",
     "text": [
      "                    name releaseDate  copiesSold  price       revenue  \\\n",
      "1403              Banana  23-04-2024    30739148   0.00  3.129158e+05   \n",
      "1452            Palworld  18-01-2024    16704850  29.99  3.923286e+08   \n",
      "1450  Black Myth: Wukong  19-08-2024    15517278  59.99  8.377934e+08   \n",
      "1451       HELLDIVERS™ 2  08-02-2024    11905198  39.99  4.356356e+08   \n",
      "1457       7 Days to Die  25-07-2024     9877443  44.99  8.978193e+07   \n",
      "\n",
      "      avgPlaytime  reviewScore publisherClass  \\\n",
      "1403    26.142054           85          Indie   \n",
      "1452    41.840761           94             AA   \n",
      "1450    20.065041           96            AAA   \n",
      "1451    39.205960           71            AAA   \n",
      "1457    85.913585           89             AA   \n",
      "\n",
      "                           publishers                    developers  steamId  \n",
      "1403                              Sky  Sky,AestheticSpartan,O'Brian  2923300  \n",
      "1452                       Pocketpair                    Pocketpair  1623730  \n",
      "1450                     Game Science                  Game Science  2358720  \n",
      "1451       PlayStation Publishing LLC        Arrowhead Game Studios   553850  \n",
      "1457  The Fun Pimps Entertainment LLC                 The Fun Pimps   251570  \n"
     ]
    }
   ],
   "source": [
    "columns_to_check = ['price', 'copiesSold', 'revenue', 'avgPlaytime', 'reviewScore']\n",
    "data[data[columns_to_check].lt(0).any(axis=1)]\n",
    "\n",
    "data.sort_values(by='copiesSold', ascending=False, inplace=True)\n",
    "\n",
    "print(data.head())"
   ]
  },
  {
   "cell_type": "markdown",
   "id": "698be051",
   "metadata": {},
   "source": [
    "Checked for negative values in numerical columns"
   ]
  },
  {
   "cell_type": "markdown",
   "id": "b25b5c18-b410-4d1a-b96a-802e686d7293",
   "metadata": {},
   "source": [
    "Define a function to remove outliers for each group"
   ]
  },
  {
   "cell_type": "code",
   "execution_count": 91,
   "id": "abb49b7d-dd40-4960-b98e-9571b19da402",
   "metadata": {},
   "outputs": [],
   "source": [
    "def remove_outliers(group):\n",
    "    Q1 = group['price'].quantile(0.25)\n",
    "    Q3 = group['price'].quantile(0.75)\n",
    "    IQR = Q3 - Q1\n",
    "    lower_bound = Q1 - 1.5 * IQR\n",
    "    upper_bound = Q3 + 1.5 * IQR\n",
    "    return group[(group['price'] >= lower_bound) & (group['price'] <= upper_bound)]\n",
    "\n",
    "\n",
    "data = data.groupby('publisherClass', group_keys=False).apply(remove_outliers)\n"
   ]
  },
  {
   "cell_type": "code",
   "execution_count": 92,
   "id": "3d5d78b1",
   "metadata": {},
   "outputs": [
    {
     "name": "stdout",
     "output_type": "stream",
     "text": [
      "p-value=  6.787460869333341e-33\n",
      "data is not normalized\n"
     ]
    },
    {
     "data": {
      "image/png": "[encoded data removed]",
      "text/plain": [
       "<Figure size 640x480 with 1 Axes>"
      ]
     },
     "metadata": {},
     "output_type": "display_data"
    }
   ],
   "source": [
    "from scipy.stats import shapiro\n",
    "import seaborn as sns\n",
    "import matplotlib.pyplot as plt\n",
    "\n",
    "stat, p = shapiro(data['price'])\n",
    "print('p-value= ', p)\n",
    "if p > 0.05:\n",
    "    print('data is normalized')\n",
    "else:\n",
    "    print('data is not normalized')\n",
    "\n",
    "sns.boxplot(data, x='price', y='publisherClass')\n",
    "plt.show()\n"
   ]
  },
  {
   "cell_type": "markdown",
   "id": "6dd0a5b1-25d1-4d0a-899f-d57830822bba",
   "metadata": {},
   "source": [
    "Some publishers are classified as indie when they probably AA. Bushiroad is a major japanesse media company as an example"
   ]
  },
  {
   "cell_type": "markdown",
   "id": "7f67bab7",
   "metadata": {},
   "source": [
    "Data is not normalized so will do kruskal-Wallis test"
   ]
  },
  {
   "cell_type": "markdown",
   "id": "1e94c03e-d60e-4aa2-a6f5-b32db0a9a0e2",
   "metadata": {},
   "source": [
    "we removed the hobbyist group because we were unsure of the labeling"
   ]
  },
  {
   "cell_type": "code",
   "execution_count": 94,
   "id": "c4fb8bdc",
   "metadata": {},
   "outputs": [
    {
     "name": "stdout",
     "output_type": "stream",
     "text": [
      "p-value=  1.6556017297765437e-35\n"
     ]
    }
   ],
   "source": [
    "from scipy.stats import kruskal\n",
    "\n",
    "class_AAA = data[data['publisherClass'] == 'AAA']['price']\n",
    "class_indie = data[data['publisherClass'] == 'Indie']['price']\n",
    "class_AA = data[data['publisherClass'] == 'AA']['price']\n",
    "\n",
    "stat, p = kruskal(class_AAA, class_indie, class_AA)\n",
    "\n",
    "print('p-value= ', p)\n"
   ]
  },
  {
   "cell_type": "markdown",
   "id": "c66a5e4c",
   "metadata": {},
   "source": [
    "Shows again that data is not normalized"
   ]
  },
  {
   "cell_type": "code",
   "execution_count": 98,
   "id": "a3804a33",
   "metadata": {},
   "outputs": [
    {
     "data": {
      "image/png": "[encoded data removed]",
      "text/plain": [
       "<Figure size 800x500 with 1 Axes>"
      ]
     },
     "metadata": {},
     "output_type": "display_data"
    },
    {
     "data": {
      "image/png": "[encoded data removed]",
      "text/plain": [
       "<Figure size 800x500 with 1 Axes>"
      ]
     },
     "metadata": {},
     "output_type": "display_data"
    },
    {
     "data": {
      "image/png": "[encoded data removed]",
      "text/plain": [
       "<Figure size 800x500 with 1 Axes>"
      ]
     },
     "metadata": {},
     "output_type": "display_data"
    }
   ],
   "source": [
    "import seaborn as sns\n",
    "import matplotlib.pyplot as plt\n",
    "\n",
    "\n",
    "data = data[data['publisherClass'] != 'Hobbyist']\n",
    "classes = data['publisherClass'].unique()\n",
    "\n",
    "for publisher_class in classes:\n",
    "    plt.figure(figsize=(8, 5))\n",
    "    sns.histplot(data[data['publisherClass'] == publisher_class]['price'], kde=True, bins=30)\n",
    "    plt.title(f'Price Distribution for {publisher_class}')\n",
    "    plt.xlabel('Price')\n",
    "    plt.ylabel('Frequency')\n",
    "    plt.show()"
   ]
  },
  {
   "cell_type": "markdown",
   "id": "62fc5458-bb48-4408-ac62-325eeb230e11",
   "metadata": {},
   "source": [
    "we reasearched the potential outliner and found out "
   ]
  },
  {
   "cell_type": "markdown",
   "id": "02c918b2",
   "metadata": {},
   "source": [
    "Final result with a histogram"
   ]
  }
 ],
 "metadata": {
  "kernelspec": {
   "display_name": "Python 3 (ipykernel)",
   "language": "python",
   "name": "python3"
  },
  "language_info": {
   "codemirror_mode": {
    "name": "ipython",
    "version": 3
   },
   "file_extension": ".py",
   "mimetype": "text/x-python",
   "name": "python",
   "nbconvert_exporter": "python",
   "pygments_lexer": "ipython3",
   "version": "3.8.20"
  }
 },
 "nbformat": 4,
 "nbformat_minor": 5
}
