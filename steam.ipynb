{
 "cells": [
  {
   "cell_type": "markdown",
   "id": "30c68162",
   "metadata": {},
   "source": [
    "# STEAM DATA TREND (2024)\n"
   ]
  },
  {
   "cell_type": "markdown",
   "id": "d2db765d",
   "metadata": {},
   "source": [
    "# DESCRIPTION\n",
    "\n",
    "We want to chart:\n",
    "Average playtime vs publisher class\n",
    "Average playtime vs review score\n",
    "Average playtime vs price"
   ]
  },
  {
   "cell_type": "markdown",
   "id": "1f598808",
   "metadata": {},
   "source": [
    "# MISC\n",
    "\n",
    "-- Data set did not specify currency, had to double check to make sure  \n",
    "-- Some games might have been translated indepdently, steamId still valid  \n",
    "-- Some games are incorrectly labeled or missing information (WWE 2k24 was deluxe edition)  \n",
    "-- Found a price outlierr in wwe 2k24 since (99.99)  \n",
    "-- Revenue data based on estimates"
   ]
  },
  {
   "cell_type": "markdown",
   "id": "18c5b6a7",
   "metadata": {},
   "source": [
    "## About this data set:\n",
    "This dataset contains comprehensive information on the top 1500 games released on Steam between January 1, 2024, and September 9, 2024. Aggregated from 30 separate files, and combined into a single dataset. Minor adjustments were made, such as aligning game release dates for consistency.\n",
    "\n",
    "## Key Features:\n",
    "Game Details: Includes titles, release dates, and developer/publisher information.\n",
    "Sales and Revenue: Tracks the number of copies sold, revenue generated, and pricing details.\n",
    "Player Engagement: Provides average playtime, peak player counts, and other user engagement metrics.\n",
    "Reviews and Scores: Features review scores and ratings.\n",
    "Dynamic Market Data: Offers insights into game performance trends over time, such as sales rank and price fluctuations.\n"
   ]
  },
  {
   "cell_type": "code",
   "execution_count": 3,
   "id": "a15d23f8",
   "metadata": {},
   "outputs": [
    {
     "name": "stdout",
     "output_type": "stream",
     "text": [
      "<class 'pandas.core.frame.DataFrame'>\n",
      "Index: 1500 entries, 0 to 1197\n",
      "Data columns (total 11 columns):\n",
      " #   Column          Non-Null Count  Dtype  \n",
      "---  ------          --------------  -----  \n",
      " 0   name            1500 non-null   object \n",
      " 1   releaseDate     1500 non-null   object \n",
      " 2   copiesSold      1500 non-null   int64  \n",
      " 3   price           1500 non-null   float64\n",
      " 4   revenue         1500 non-null   float64\n",
      " 5   avgPlaytime     1500 non-null   float64\n",
      " 6   reviewScore     1500 non-null   int64  \n",
      " 7   publisherClass  1500 non-null   object \n",
      " 8   publishers      1499 non-null   object \n",
      " 9   developers      1498 non-null   object \n",
      " 10  steamId         1500 non-null   int64  \n",
      "dtypes: float64(3), int64(3), object(5)\n",
      "memory usage: 140.6+ KB\n"
     ]
    }
   ],
   "source": [
    "import pandas as pd\n",
    "\n",
    "data = pd.read_csv('./Steam_2024_bestRevenue_1500.csv')\n",
    "\n",
    "\n",
    "data.sort_values(by='price', ascending=False, inplace=True)\n",
    "\n",
    "#data cleaning\n",
    "#data.isna().sum()\n",
    "data.info()"
   ]
  },
  {
   "cell_type": "markdown",
   "id": "ebe60473-6f64-4359-a385-738d9da1f289",
   "metadata": {},
   "source": [
    "Will investigate  missing developers and publishers"
   ]
  },
  {
   "cell_type": "code",
   "execution_count": 4,
   "id": "d762fbfd-bd85-456d-932f-cd3cacf02448",
   "metadata": {},
   "outputs": [
    {
     "data": {
      "text/html": [
       "<div>\n",
       "<style scoped>\n",
       "    .dataframe tbody tr th:only-of-type {\n",
       "        vertical-align: middle;\n",
       "    }\n",
       "\n",
       "    .dataframe tbody tr th {\n",
       "        vertical-align: top;\n",
       "    }\n",
       "\n",
       "    .dataframe thead th {\n",
       "        text-align: right;\n",
       "    }\n",
       "</style>\n",
       "<table border=\"1\" class=\"dataframe\">\n",
       "  <thead>\n",
       "    <tr style=\"text-align: right;\">\n",
       "      <th></th>\n",
       "      <th>name</th>\n",
       "      <th>releaseDate</th>\n",
       "      <th>copiesSold</th>\n",
       "      <th>price</th>\n",
       "      <th>revenue</th>\n",
       "      <th>avgPlaytime</th>\n",
       "      <th>reviewScore</th>\n",
       "      <th>publisherClass</th>\n",
       "      <th>publishers</th>\n",
       "      <th>developers</th>\n",
       "      <th>steamId</th>\n",
       "    </tr>\n",
       "  </thead>\n",
       "  <tbody>\n",
       "    <tr>\n",
       "      <th>643</th>\n",
       "      <td>YUME 4</td>\n",
       "      <td>12-01-2024</td>\n",
       "      <td>18572</td>\n",
       "      <td>4.99</td>\n",
       "      <td>54457.0</td>\n",
       "      <td>1.225076</td>\n",
       "      <td>78</td>\n",
       "      <td>Indie</td>\n",
       "      <td>Lovely Games</td>\n",
       "      <td>NaN</td>\n",
       "      <td>2602730</td>\n",
       "    </tr>\n",
       "    <tr>\n",
       "      <th>765</th>\n",
       "      <td>Hypnosis Card</td>\n",
       "      <td>19-01-2024</td>\n",
       "      <td>10812</td>\n",
       "      <td>4.99</td>\n",
       "      <td>41891.0</td>\n",
       "      <td>2.016618</td>\n",
       "      <td>77</td>\n",
       "      <td>Indie</td>\n",
       "      <td>Lovely Games</td>\n",
       "      <td>NaN</td>\n",
       "      <td>2544990</td>\n",
       "    </tr>\n",
       "  </tbody>\n",
       "</table>\n",
       "</div>"
      ],
      "text/plain": [
       "              name releaseDate  copiesSold  price  revenue  avgPlaytime  \\\n",
       "643         YUME 4  12-01-2024       18572   4.99  54457.0     1.225076   \n",
       "765  Hypnosis Card  19-01-2024       10812   4.99  41891.0     2.016618   \n",
       "\n",
       "     reviewScore publisherClass    publishers developers  steamId  \n",
       "643           78          Indie  Lovely Games        NaN  2602730  \n",
       "765           77          Indie  Lovely Games        NaN  2544990  "
      ]
     },
     "execution_count": 4,
     "metadata": {},
     "output_type": "execute_result"
    }
   ],
   "source": [
    "data[data['developers'].isna()]"
   ]
  },
  {
   "cell_type": "code",
   "execution_count": 5,
   "id": "7c7dd01a-2bee-4103-a3c6-d4ef98ee9b90",
   "metadata": {},
   "outputs": [
    {
     "data": {
      "text/html": [
       "<div>\n",
       "<style scoped>\n",
       "    .dataframe tbody tr th:only-of-type {\n",
       "        vertical-align: middle;\n",
       "    }\n",
       "\n",
       "    .dataframe tbody tr th {\n",
       "        vertical-align: top;\n",
       "    }\n",
       "\n",
       "    .dataframe thead th {\n",
       "        text-align: right;\n",
       "    }\n",
       "</style>\n",
       "<table border=\"1\" class=\"dataframe\">\n",
       "  <thead>\n",
       "    <tr style=\"text-align: right;\">\n",
       "      <th></th>\n",
       "      <th>name</th>\n",
       "      <th>releaseDate</th>\n",
       "      <th>copiesSold</th>\n",
       "      <th>price</th>\n",
       "      <th>revenue</th>\n",
       "      <th>avgPlaytime</th>\n",
       "      <th>reviewScore</th>\n",
       "      <th>publisherClass</th>\n",
       "      <th>publishers</th>\n",
       "      <th>developers</th>\n",
       "      <th>steamId</th>\n",
       "    </tr>\n",
       "  </thead>\n",
       "  <tbody>\n",
       "    <tr>\n",
       "      <th>710</th>\n",
       "      <td>Pixel Noir</td>\n",
       "      <td>08-02-2024</td>\n",
       "      <td>3129</td>\n",
       "      <td>24.99</td>\n",
       "      <td>47871.0</td>\n",
       "      <td>8.461324</td>\n",
       "      <td>67</td>\n",
       "      <td>Hobbyist</td>\n",
       "      <td>NaN</td>\n",
       "      <td>SWDTech Games</td>\n",
       "      <td>754320</td>\n",
       "    </tr>\n",
       "  </tbody>\n",
       "</table>\n",
       "</div>"
      ],
      "text/plain": [
       "           name releaseDate  copiesSold  price  revenue  avgPlaytime  \\\n",
       "710  Pixel Noir  08-02-2024        3129  24.99  47871.0     8.461324   \n",
       "\n",
       "     reviewScore publisherClass publishers     developers  steamId  \n",
       "710           67       Hobbyist        NaN  SWDTech Games   754320  "
      ]
     },
     "execution_count": 5,
     "metadata": {},
     "output_type": "execute_result"
    }
   ],
   "source": [
    "data[data['publishers'].isna()]"
   ]
  },
  {
   "cell_type": "markdown",
   "id": "b4e208cd-4a1a-4eb9-a2f9-49c375eb733a",
   "metadata": {},
   "source": [
    "Using Steam ID we identified developers and publishers for the missing data"
   ]
  },
  {
   "cell_type": "code",
   "execution_count": 6,
   "id": "c8125228-4620-458b-8b94-687204688ea6",
   "metadata": {},
   "outputs": [],
   "source": [
    "data.loc[data['steamId'] == 2602730, 'developers'] = 'Lovely Games'\n",
    "data.loc[data['steamId'] == 2544990, 'developers'] = 'Naku kinoko'\n",
    "data.loc[data['steamId'] == 754320, 'publishers'] = 'SWDTech Games'"
   ]
  },
  {
   "cell_type": "code",
   "execution_count": 7,
   "id": "92b6b2a1-4426-46df-92dc-6ee5ec00fff0",
   "metadata": {},
   "outputs": [
    {
     "data": {
      "text/html": [
       "<div>\n",
       "<style scoped>\n",
       "    .dataframe tbody tr th:only-of-type {\n",
       "        vertical-align: middle;\n",
       "    }\n",
       "\n",
       "    .dataframe tbody tr th {\n",
       "        vertical-align: top;\n",
       "    }\n",
       "\n",
       "    .dataframe thead th {\n",
       "        text-align: right;\n",
       "    }\n",
       "</style>\n",
       "<table border=\"1\" class=\"dataframe\">\n",
       "  <thead>\n",
       "    <tr style=\"text-align: right;\">\n",
       "      <th></th>\n",
       "      <th>name</th>\n",
       "      <th>releaseDate</th>\n",
       "      <th>copiesSold</th>\n",
       "      <th>price</th>\n",
       "      <th>revenue</th>\n",
       "      <th>avgPlaytime</th>\n",
       "      <th>reviewScore</th>\n",
       "      <th>publisherClass</th>\n",
       "      <th>publishers</th>\n",
       "      <th>developers</th>\n",
       "      <th>steamId</th>\n",
       "    </tr>\n",
       "  </thead>\n",
       "  <tbody>\n",
       "  </tbody>\n",
       "</table>\n",
       "</div>"
      ],
      "text/plain": [
       "Empty DataFrame\n",
       "Columns: [name, releaseDate, copiesSold, price, revenue, avgPlaytime, reviewScore, publisherClass, publishers, developers, steamId]\n",
       "Index: []"
      ]
     },
     "execution_count": 7,
     "metadata": {},
     "output_type": "execute_result"
    }
   ],
   "source": [
    "data[data['developers'].isna()]\n",
    "data[data['publishers'].isna()]"
   ]
  },
  {
   "cell_type": "code",
   "execution_count": 8,
   "id": "68fe6dbd",
   "metadata": {},
   "outputs": [
    {
     "name": "stdout",
     "output_type": "stream",
     "text": [
      "0\n"
     ]
    }
   ],
   "source": [
    "print(data.duplicated().sum())"
   ]
  },
  {
   "cell_type": "markdown",
   "id": "29af96e0",
   "metadata": {},
   "source": [
    "Found no duplicates"
   ]
  },
  {
   "cell_type": "code",
   "execution_count": 9,
   "id": "a86da78b",
   "metadata": {},
   "outputs": [
    {
     "data": {
      "text/plain": [
       "name              0\n",
       "releaseDate       0\n",
       "copiesSold        0\n",
       "price             0\n",
       "revenue           0\n",
       "avgPlaytime       0\n",
       "reviewScore       0\n",
       "publisherClass    0\n",
       "publishers        0\n",
       "developers        0\n",
       "steamId           0\n",
       "dtype: int64"
      ]
     },
     "execution_count": 9,
     "metadata": {},
     "output_type": "execute_result"
    }
   ],
   "source": [
    "(data == \"\").sum()\n",
    "(data == \" \").sum()\n"
   ]
  },
  {
   "cell_type": "markdown",
   "id": "0209701b",
   "metadata": {},
   "source": [
    "checked for empty strings and blank spaces"
   ]
  },
  {
   "cell_type": "code",
   "execution_count": 10,
   "id": "d15bfb28",
   "metadata": {},
   "outputs": [
    {
     "name": "stdout",
     "output_type": "stream",
     "text": [
      "                    name releaseDate  copiesSold  price       revenue  \\\n",
      "1403              Banana  23-04-2024    30739148   0.00  3.129158e+05   \n",
      "1452            Palworld  18-01-2024    16704850  29.99  3.923286e+08   \n",
      "1450  Black Myth: Wukong  19-08-2024    15517278  59.99  8.377934e+08   \n",
      "1451       HELLDIVERS™ 2  08-02-2024    11905198  39.99  4.356356e+08   \n",
      "1457       7 Days to Die  25-07-2024     9877443  44.99  8.978193e+07   \n",
      "\n",
      "      avgPlaytime  reviewScore publisherClass  \\\n",
      "1403    26.142054           85          Indie   \n",
      "1452    41.840761           94             AA   \n",
      "1450    20.065041           96            AAA   \n",
      "1451    39.205960           71            AAA   \n",
      "1457    85.913585           89             AA   \n",
      "\n",
      "                           publishers                    developers  steamId  \n",
      "1403                              Sky  Sky,AestheticSpartan,O'Brian  2923300  \n",
      "1452                       Pocketpair                    Pocketpair  1623730  \n",
      "1450                     Game Science                  Game Science  2358720  \n",
      "1451       PlayStation Publishing LLC        Arrowhead Game Studios   553850  \n",
      "1457  The Fun Pimps Entertainment LLC                 The Fun Pimps   251570  \n"
     ]
    }
   ],
   "source": [
    "columns_to_check = ['price', 'copiesSold', 'revenue', 'avgPlaytime', 'reviewScore']\n",
    "data[data[columns_to_check].lt(0).any(axis=1)]\n",
    "\n",
    "data.sort_values(by='copiesSold', ascending=False, inplace=True)\n",
    "\n",
    "print(data.head())"
   ]
  },
  {
   "cell_type": "markdown",
   "id": "698be051",
   "metadata": {},
   "source": [
    "Checked for negative values in numerical columns"
   ]
  },
  {
   "cell_type": "code",
   "execution_count": 11,
   "id": "3d5d78b1",
   "metadata": {},
   "outputs": [
    {
     "data": {
      "image/png": "[encoded data removed]",
      "text/plain": [
       "<Figure size 640x480 with 1 Axes>"
      ]
     },
     "metadata": {},
     "output_type": "display_data"
    }
   ],
   "source": [
    "from scipy.stats import shapiro\n",
    "import seaborn as sns\n",
    "import matplotlib.pyplot as plt\n",
    "\n",
    "sns.boxplot(data, x='price', y='publisherClass')\n",
    "plt.show()\n"
   ]
  },
  {
   "cell_type": "markdown",
   "id": "547a0ba9-f572-4ea1-b85d-b767597075cb",
   "metadata": {},
   "source": [
    "## Check Numerical Data Columns - Visual Overview"
   ]
  },
  {
   "cell_type": "code",
   "execution_count": 30,
   "id": "6c07cce0-8248-4fbf-8f10-67029d0a408a",
   "metadata": {},
   "outputs": [
    {
     "data": {
      "text/plain": [
       "<Axes: xlabel='revenue', ylabel='Count'>"
      ]
     },
     "execution_count": 30,
     "metadata": {},
     "output_type": "execute_result"
    },
    {
     "data": {
      "image/png": "[encoded data removed]",
      "text/plain": [
       "<Figure size 640x480 with 1 Axes>"
      ]
     },
     "metadata": {},
     "output_type": "display_data"
    }
   ],
   "source": [
    "import seaborn as sns\n",
    "\n",
    "sns.histplot(data['revenue'], bins=60, log_scale=True, kde=True)\n"
   ]
  },
  {
   "cell_type": "code",
   "execution_count": 31,
   "id": "df043b1b-8231-43e8-b8de-f2e27f83b870",
   "metadata": {},
   "outputs": [
    {
     "data": {
      "text/plain": [
       "<Axes: xlabel='copiesSold', ylabel='Count'>"
      ]
     },
     "execution_count": 31,
     "metadata": {},
     "output_type": "execute_result"
    },
    {
     "data": {
      "image/png": "[encoded data removed]",
      "text/plain": [
       "<Figure size 640x480 with 1 Axes>"
      ]
     },
     "metadata": {},
     "output_type": "display_data"
    }
   ],
   "source": [
    "sns.histplot(data['copiesSold'], bins=60, log_scale=True,kde=True)"
   ]
  },
  {
   "cell_type": "code",
   "execution_count": 26,
   "id": "aa5daac7-340b-416f-ada2-888514b80e90",
   "metadata": {},
   "outputs": [
    {
     "data": {
      "text/plain": [
       "<Axes: xlabel='reviewScore', ylabel='Count'>"
      ]
     },
     "execution_count": 26,
     "metadata": {},
     "output_type": "execute_result"
    },
    {
     "data": {
      "image/png": "[encoded data removed]",
      "text/plain": [
       "<Figure size 640x480 with 1 Axes>"
      ]
     },
     "metadata": {},
     "output_type": "display_data"
    }
   ],
   "source": [
    "sns.histplot(data['reviewScore'], bins=60, log_scale=False)"
   ]
  },
  {
   "cell_type": "code",
   "execution_count": 45,
   "id": "c8b12686-f029-43f4-aa9a-e9bf5fa23486",
   "metadata": {},
   "outputs": [
    {
     "data": {
      "text/plain": [
       "<Axes: xlabel='avgPlaytime', ylabel='Count'>"
      ]
     },
     "execution_count": 45,
     "metadata": {},
     "output_type": "execute_result"
    },
    {
     "data": {
      "image/png": "[encoded data removed]",
      "text/plain": [
       "<Figure size 640x480 with 1 Axes>"
      ]
     },
     "metadata": {},
     "output_type": "display_data"
    }
   ],
   "source": [
    "sns.histplot(data['avgPlaytime'], bins=50, log_scale=True)"
   ]
  },
  {
   "cell_type": "markdown",
   "id": "da69c3dc-7924-4a0e-addc-5323af51615e",
   "metadata": {},
   "source": [
    "### Why log scale average playtime?\n",
    "Imagine this distribution of average playtime:\n",
    "\n",
    "80% of games: 1–10 hours\n",
    "\n",
    "15% of games: 10–100 hours\n",
    "\n",
    "5% of games: 100–1000+ hours\n",
    "\n",
    "If you plot this on a linear histogram, the 1–10 hour range will dominate the graph, and the long-play games get squished into a tiny sliver.\n",
    "\n",
    "#### What the log scale does in this context:\n",
    "Spreads out the low end (1–10 hours)\n",
    "\n",
    "Compresses the high end (100–1000+ hours)\n",
    "\n",
    "Makes the overall shape of the distribution more readable\n",
    "\n",
    "Helps reveal patterns in both casual and hardcore games"
   ]
  },
  {
   "cell_type": "code",
   "execution_count": 46,
   "id": "665ada47-26ab-41ba-80a7-39a2a3c65718",
   "metadata": {},
   "outputs": [
    {
     "data": {
      "text/plain": [
       "<Axes: xlabel='price', ylabel='Count'>"
      ]
     },
     "execution_count": 46,
     "metadata": {},
     "output_type": "execute_result"
    },
    {
     "data": {
      "image/png": "[encoded data removed]",
      "text/plain": [
       "<Figure size 640x480 with 1 Axes>"
      ]
     },
     "metadata": {},
     "output_type": "display_data"
    }
   ],
   "source": [
    "sns.histplot(data['price'], log_scale=False,kde=True)"
   ]
  },
  {
   "cell_type": "markdown",
   "id": "7233c38e-eff4-485d-852e-0b97aa2dec71",
   "metadata": {},
   "source": []
  },
  {
   "cell_type": "markdown",
   "id": "19729ce2-8cbf-4e11-aaaa-e831d01085de",
   "metadata": {},
   "source": [
    "## Check Categorical Data Columns - Visual Overview\n",
    "Relevant columns publisher class, developers, publishers"
   ]
  }
 ],
 "metadata": {
  "kernelspec": {
   "display_name": "Python 3 (ipykernel)",
   "language": "python",
   "name": "python3"
  },
  "language_info": {
   "codemirror_mode": {
    "name": "ipython",
    "version": 3
   },
   "file_extension": ".py",
   "mimetype": "text/x-python",
   "name": "python",
   "nbconvert_exporter": "python",
   "pygments_lexer": "ipython3",
   "version": "3.8.20"
  }
 },
 "nbformat": 4,
 "nbformat_minor": 5
}
