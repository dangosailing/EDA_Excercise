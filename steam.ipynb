{
 "cells": [
  {
   "cell_type": "markdown",
   "id": "30c68162",
   "metadata": {},
   "source": [
    "# STEAM DATA TREND (2024)\n"
   ]
  },
  {
   "cell_type": "markdown",
   "id": "d2db765d",
   "metadata": {},
   "source": [
    "# DESCRIPTION\n",
    "\n",
    "We want to chart:\n",
    "Average playtime vs publisher class\n",
    "Average playtime vs review score\n",
    "Average playtime vs price"
   ]
  },
  {
   "cell_type": "markdown",
   "id": "1f598808",
   "metadata": {},
   "source": [
    "# MISC\n",
    "\n",
    "-- Data set did not specify currency, had to double check to make sure  \n",
    "-- Some games might have been translated indepdently, steamId still valid  \n",
    "-- Some games are incorrectly labeled or missing information (WWE 2k24 was deluxe edition)  \n",
    "-- Found a price outlierr in wwe 2k24 since (99.99)  \n",
    "-- Revenue data based on estimates"
   ]
  },
  {
   "cell_type": "markdown",
   "id": "18c5b6a7",
   "metadata": {},
   "source": [
    "## About this data set:\n",
    "This dataset contains comprehensive information on the top 1500 games released on Steam between January 1, 2024, and September 9, 2024. Aggregated from 30 separate files, and combined into a single dataset. Minor adjustments were made, such as aligning game release dates for consistency.\n",
    "\n",
    "## Key Features:\n",
    "Game Details: Includes titles, release dates, and developer/publisher information.\n",
    "Sales and Revenue: Tracks the number of copies sold, revenue generated, and pricing details.\n",
    "Player Engagement: Provides average playtime, peak player counts, and other user engagement metrics.\n",
    "Reviews and Scores: Features review scores and ratings.\n",
    "Dynamic Market Data: Offers insights into game performance trends over time, such as sales rank and price fluctuations.\n"
   ]
  },
  {
   "cell_type": "code",
   "execution_count": 17,
   "id": "a15d23f8",
   "metadata": {},
   "outputs": [
    {
     "name": "stdout",
     "output_type": "stream",
     "text": [
      "<class 'pandas.core.frame.DataFrame'>\n",
      "Index: 1500 entries, 0 to 1197\n",
      "Data columns (total 11 columns):\n",
      " #   Column          Non-Null Count  Dtype  \n",
      "---  ------          --------------  -----  \n",
      " 0   name            1500 non-null   object \n",
      " 1   releaseDate     1500 non-null   object \n",
      " 2   copiesSold      1500 non-null   int64  \n",
      " 3   price           1500 non-null   float64\n",
      " 4   revenue         1500 non-null   float64\n",
      " 5   avgPlaytime     1500 non-null   float64\n",
      " 6   reviewScore     1500 non-null   int64  \n",
      " 7   publisherClass  1500 non-null   object \n",
      " 8   publishers      1499 non-null   object \n",
      " 9   developers      1498 non-null   object \n",
      " 10  steamId         1500 non-null   int64  \n",
      "dtypes: float64(3), int64(3), object(5)\n",
      "memory usage: 140.6+ KB\n"
     ]
    }
   ],
   "source": [
    "import pandas as pd\n",
    "\n",
    "data = pd.read_csv('./Steam_2024_bestRevenue_1500.csv')\n",
    "\n",
    "\n",
    "data.sort_values(by='price', ascending=False, inplace=True)\n",
    "\n",
    "#data cleaning\n",
    "#data.isna().sum()\n",
    "data.info()"
   ]
  },
  {
   "cell_type": "markdown",
   "id": "ebe60473-6f64-4359-a385-738d9da1f289",
   "metadata": {},
   "source": [
    "Will investigate  missing developers and publishers"
   ]
  },
  {
   "cell_type": "code",
   "execution_count": 10,
   "id": "d762fbfd-bd85-456d-932f-cd3cacf02448",
   "metadata": {},
   "outputs": [
    {
     "data": {
      "text/html": [
       "<div>\n",
       "<style scoped>\n",
       "    .dataframe tbody tr th:only-of-type {\n",
       "        vertical-align: middle;\n",
       "    }\n",
       "\n",
       "    .dataframe tbody tr th {\n",
       "        vertical-align: top;\n",
       "    }\n",
       "\n",
       "    .dataframe thead th {\n",
       "        text-align: right;\n",
       "    }\n",
       "</style>\n",
       "<table border=\"1\" class=\"dataframe\">\n",
       "  <thead>\n",
       "    <tr style=\"text-align: right;\">\n",
       "      <th></th>\n",
       "      <th>name</th>\n",
       "      <th>releaseDate</th>\n",
       "      <th>copiesSold</th>\n",
       "      <th>price</th>\n",
       "      <th>revenue</th>\n",
       "      <th>avgPlaytime</th>\n",
       "      <th>reviewScore</th>\n",
       "      <th>publisherClass</th>\n",
       "      <th>publishers</th>\n",
       "      <th>developers</th>\n",
       "      <th>steamId</th>\n",
       "    </tr>\n",
       "  </thead>\n",
       "  <tbody>\n",
       "    <tr>\n",
       "      <th>643</th>\n",
       "      <td>YUME 4</td>\n",
       "      <td>12-01-2024</td>\n",
       "      <td>18572</td>\n",
       "      <td>4.99</td>\n",
       "      <td>54457.0</td>\n",
       "      <td>1.225076</td>\n",
       "      <td>78</td>\n",
       "      <td>Indie</td>\n",
       "      <td>Lovely Games</td>\n",
       "      <td>NaN</td>\n",
       "      <td>2602730</td>\n",
       "    </tr>\n",
       "    <tr>\n",
       "      <th>765</th>\n",
       "      <td>Hypnosis Card</td>\n",
       "      <td>19-01-2024</td>\n",
       "      <td>10812</td>\n",
       "      <td>4.99</td>\n",
       "      <td>41891.0</td>\n",
       "      <td>2.016618</td>\n",
       "      <td>77</td>\n",
       "      <td>Indie</td>\n",
       "      <td>Lovely Games</td>\n",
       "      <td>NaN</td>\n",
       "      <td>2544990</td>\n",
       "    </tr>\n",
       "  </tbody>\n",
       "</table>\n",
       "</div>"
      ],
      "text/plain": [
       "              name releaseDate  copiesSold  price  revenue  avgPlaytime  \\\n",
       "643         YUME 4  12-01-2024       18572   4.99  54457.0     1.225076   \n",
       "765  Hypnosis Card  19-01-2024       10812   4.99  41891.0     2.016618   \n",
       "\n",
       "     reviewScore publisherClass    publishers developers  steamId  \n",
       "643           78          Indie  Lovely Games        NaN  2602730  \n",
       "765           77          Indie  Lovely Games        NaN  2544990  "
      ]
     },
     "execution_count": 10,
     "metadata": {},
     "output_type": "execute_result"
    }
   ],
   "source": [
    "data[data['developers'].isna()]"
   ]
  },
  {
   "cell_type": "code",
   "execution_count": 7,
   "id": "7c7dd01a-2bee-4103-a3c6-d4ef98ee9b90",
   "metadata": {},
   "outputs": [
    {
     "data": {
      "text/html": [
       "<div>\n",
       "<style scoped>\n",
       "    .dataframe tbody tr th:only-of-type {\n",
       "        vertical-align: middle;\n",
       "    }\n",
       "\n",
       "    .dataframe tbody tr th {\n",
       "        vertical-align: top;\n",
       "    }\n",
       "\n",
       "    .dataframe thead th {\n",
       "        text-align: right;\n",
       "    }\n",
       "</style>\n",
       "<table border=\"1\" class=\"dataframe\">\n",
       "  <thead>\n",
       "    <tr style=\"text-align: right;\">\n",
       "      <th></th>\n",
       "      <th>name</th>\n",
       "      <th>releaseDate</th>\n",
       "      <th>copiesSold</th>\n",
       "      <th>price</th>\n",
       "      <th>revenue</th>\n",
       "      <th>avgPlaytime</th>\n",
       "      <th>reviewScore</th>\n",
       "      <th>publisherClass</th>\n",
       "      <th>publishers</th>\n",
       "      <th>developers</th>\n",
       "      <th>steamId</th>\n",
       "    </tr>\n",
       "  </thead>\n",
       "  <tbody>\n",
       "    <tr>\n",
       "      <th>710</th>\n",
       "      <td>Pixel Noir</td>\n",
       "      <td>08-02-2024</td>\n",
       "      <td>3129</td>\n",
       "      <td>24.99</td>\n",
       "      <td>47871.0</td>\n",
       "      <td>8.461324</td>\n",
       "      <td>67</td>\n",
       "      <td>Hobbyist</td>\n",
       "      <td>NaN</td>\n",
       "      <td>SWDTech Games</td>\n",
       "      <td>754320</td>\n",
       "    </tr>\n",
       "  </tbody>\n",
       "</table>\n",
       "</div>"
      ],
      "text/plain": [
       "           name releaseDate  copiesSold  price  revenue  avgPlaytime  \\\n",
       "710  Pixel Noir  08-02-2024        3129  24.99  47871.0     8.461324   \n",
       "\n",
       "     reviewScore publisherClass publishers     developers  steamId  \n",
       "710           67       Hobbyist        NaN  SWDTech Games   754320  "
      ]
     },
     "execution_count": 7,
     "metadata": {},
     "output_type": "execute_result"
    }
   ],
   "source": [
    "data[data['publishers'].isna()]"
   ]
  },
  {
   "cell_type": "markdown",
   "id": "b4e208cd-4a1a-4eb9-a2f9-49c375eb733a",
   "metadata": {},
   "source": [
    "Using Steam ID we identified developers and publishers for the missing data"
   ]
  },
  {
   "cell_type": "code",
   "execution_count": 18,
   "id": "c8125228-4620-458b-8b94-687204688ea6",
   "metadata": {},
   "outputs": [],
   "source": [
    "data.loc[data['steamId'] == 2602730, 'developers'] = 'Lovely Games'\n",
    "data.loc[data['steamId'] == 2544990, 'developers'] = 'Naku kinoko'\n",
    "data.loc[data['steamId'] == 754320, 'publishers'] = 'SWDTech Games'"
   ]
  },
  {
   "cell_type": "code",
   "execution_count": 20,
   "id": "92b6b2a1-4426-46df-92dc-6ee5ec00fff0",
   "metadata": {},
   "outputs": [
    {
     "data": {
      "text/html": [
       "<div>\n",
       "<style scoped>\n",
       "    .dataframe tbody tr th:only-of-type {\n",
       "        vertical-align: middle;\n",
       "    }\n",
       "\n",
       "    .dataframe tbody tr th {\n",
       "        vertical-align: top;\n",
       "    }\n",
       "\n",
       "    .dataframe thead th {\n",
       "        text-align: right;\n",
       "    }\n",
       "</style>\n",
       "<table border=\"1\" class=\"dataframe\">\n",
       "  <thead>\n",
       "    <tr style=\"text-align: right;\">\n",
       "      <th></th>\n",
       "      <th>name</th>\n",
       "      <th>releaseDate</th>\n",
       "      <th>copiesSold</th>\n",
       "      <th>price</th>\n",
       "      <th>revenue</th>\n",
       "      <th>avgPlaytime</th>\n",
       "      <th>reviewScore</th>\n",
       "      <th>publisherClass</th>\n",
       "      <th>publishers</th>\n",
       "      <th>developers</th>\n",
       "      <th>steamId</th>\n",
       "    </tr>\n",
       "  </thead>\n",
       "  <tbody>\n",
       "  </tbody>\n",
       "</table>\n",
       "</div>"
      ],
      "text/plain": [
       "Empty DataFrame\n",
       "Columns: [name, releaseDate, copiesSold, price, revenue, avgPlaytime, reviewScore, publisherClass, publishers, developers, steamId]\n",
       "Index: []"
      ]
     },
     "execution_count": 20,
     "metadata": {},
     "output_type": "execute_result"
    }
   ],
   "source": [
    "data[data['developers'].isna()]\n",
    "data[data['publishers'].isna()]"
   ]
  }
 ],
 "metadata": {
  "kernelspec": {
   "display_name": "Python 3 (ipykernel)",
   "language": "python",
   "name": "python3"
  },
  "language_info": {
   "codemirror_mode": {
    "name": "ipython",
    "version": 3
   },
   "file_extension": ".py",
   "mimetype": "text/x-python",
   "name": "python",
   "nbconvert_exporter": "python",
   "pygments_lexer": "ipython3",
   "version": "3.8.20"
  }
 },
 "nbformat": 4,
 "nbformat_minor": 5
}
